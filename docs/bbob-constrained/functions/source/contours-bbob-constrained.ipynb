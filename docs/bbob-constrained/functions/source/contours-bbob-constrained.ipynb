{
 "cells": [
  {
   "cell_type": "code",
   "execution_count": 1,
   "metadata": {},
   "outputs": [],
   "source": [
    "%matplotlib notebook\n",
    "\"\"\"Script to plot contour lines of bbob-constrained test functions in 2D\n",
    "\"\"\"\n",
    "import cocoex\n",
    "import numpy as np\n",
    "import matplotlib.pyplot as pp\n",
    "from statsmodels.distributions.empirical_distribution import ECDF\n",
    "from cocopp import ppfig"
   ]
  },
  {
   "cell_type": "code",
   "execution_count": 2,
   "metadata": {},
   "outputs": [],
   "source": [
    "function = 1\n",
    "dimension = 2\n",
    "instance = 1\n",
    "xmin, ymin = -5e3, -5\n",
    "xmax, ymax = 5e3, 5\n",
    "\n",
    "nb_cons = [\"1\", \"2\", \"6\", \"6+n/2\", \"6+n\", \"6+3n\"]\n",
    "nb_cons_fig_name = [\"1\", \"2\", \"6\", \"6_plus_n_half\", \"6_plus_n\", \"6_plus_3_n\"]\n",
    "obj_fcts = [\"Sphere\", \"Sep. Ellipsoid\", \"Linear Slope\", \"Rotated Ellipsoid\",\\\n",
    "             \"Discus\", \"Bent Cigar\", \"Different Powers\", \"Separable Rastrigin\"]\n",
    "\n",
    "cocoex.known_suite_names.append('bbob-constrained')\n",
    "cocoex.known_suite_names.append('bbob-constrained-active-only')"
   ]
  },
  {
   "cell_type": "code",
   "execution_count": 3,
   "metadata": {},
   "outputs": [],
   "source": [
    "def bbob_constrained_evaluate_grid(x, y, problem):\n",
    "    \"\"\"Evaluate objective and constraint functions of problem\n",
    "    on the grid whose x-axis is x and y-axis is y. If problem\n",
    "    dimension is larger than 2, x and y are interpreted as\n",
    "    first two variables, the others are set to optimum.\n",
    "    \n",
    "    Result:\n",
    "    f_values: array of shape (nx, ny)\n",
    "    cons_values: array of shape (ny, nx, problem.number_of_constraints)\n",
    "    \"\"\"\n",
    "    f_values = []\n",
    "    cons_values = []\n",
    "    if problem.dimension is 3:\n",
    "        Ex = ValueError()\n",
    "        Ex.strerror = \"Dimension cannot be 3 for the moment.\"\n",
    "        raise Ex\n",
    "    problem._best_parameter('print')\n",
    "    x_opt = np.loadtxt('._bbob_problem_best_parameter.txt')\n",
    "        \n",
    "    for yy in y:\n",
    "        # For each element xx, yy of x, y respectively,\n",
    "        # evaluate objective and constraints on each point (xx, yy)\n",
    "        \n",
    "        # The resulting array must be of size (ny, xy)\n",
    "        # for ``contour()`` to run correctly\n",
    "        \n",
    "        # Evaluating constraints on one point results in an array\n",
    "        # of size ``problem.number_of_constraints``\n",
    "        \n",
    "        # todo: make sure that it also works in dimension 3\n",
    "        f_values.append([problem([xx, yy] + list(x_opt[2:])) for xx in x])\n",
    "        cons_values.append([problem.constraint([xx, yy] + list(x_opt[2:])) for xx in x])\n",
    "    return np.array(f_values), np.array(cons_values)"
   ]
  },
  {
   "cell_type": "code",
   "execution_count": 4,
   "metadata": {},
   "outputs": [],
   "source": [
    "def read_best_parameter(problem):\n",
    "    \"\"\"This function reads the best parameter of ``problem''\n",
    "    from a .txt file and returns a array corresponding to\n",
    "    this best parameter\n",
    "    \"\"\"\n",
    "    problem._best_parameter(what=\"print\")\n",
    "    with open(\"._bbob_problem_best_parameter.txt\") as f:\n",
    "        best_parameter = f.read().strip().split()\n",
    "    return np.array([float(x) for x in best_parameter])"
   ]
  },
  {
   "cell_type": "code",
   "execution_count": 5,
   "metadata": {},
   "outputs": [],
   "source": [
    "def bbob_constrained_plot_contours(x, y, f_values, cons_values, x_best, function, dimension, instance):\n",
    "    \"\"\"Plot contour lines and best parameter of bbob-constrained\n",
    "    function ``function``, in ``dimension``D, for instance ``instance``\n",
    "    \"\"\"\n",
    "    # Set color maps for objective\n",
    "    pp.rcParams['image.cmap'] = 'autumn'\n",
    "    \n",
    "    # Plot contours of objective\n",
    "    pp.contour(x, y, f_values, 50, linewidths=0.5)\n",
    "    \n",
    "    # Set color maps for constraints\n",
    "    pp.rcParams['image.cmap'] = 'winter'\n",
    "    \n",
    "    # Plot contours of each constraint\n",
    "    # To indicate feasible space, positive level sets are filled with color\n",
    "    for i in range(cons_values.shape[-1]):\n",
    "        pp.contourf(x, y, np.array(cons_values)[:, :, i], levels=[0, 1e12], alpha=0.2)\n",
    "        \n",
    "    # Plot best parameter\n",
    "    pp.plot(x_best[0], x_best[1], 'o', c='black', markersize=10)\n",
    "    \n",
    "    # Annotate best parameter on the graph\n",
    "    if x_best[0] < -3.3:\n",
    "        xshift = -0.3\n",
    "    else:\n",
    "        xshift = 1.7\n",
    "    pp.annotate(r'$x^{opt}$', xy=(x_best[0], x_best[-1]), xytext=((x_best[0]-xshift), x_best[1]+0.1), size=25)\n",
    "    # Prepare figure settings\n",
    "    f = (function - 1) // 6\n",
    "    m = (function - 1) % 6\n",
    "    cons = \"constraints\"\n",
    "    if m == 0:\n",
    "        cons = \"constraint\"\n",
    "    title = \"%d %s with %s act. %s, inst.=%s\"%(function, obj_fcts[f], nb_cons[m], cons, instance)\n",
    "    pp.title(title)\n",
    "    ax = pp.gca()\n",
    "    ax.set_aspect('equal') # commented for testing purpose\n",
    "    #pp.xlabel(r'$x_1$', size=15)\n",
    "    #pp.ylabel(r'$x_2$', size=15)\n",
    "    pp.grid(which ='both', linestyle='dotted')\n",
    "    pp.tick_params(axis='both', labelsize=12)\n",
    "    #pp.legend()\n",
    "    #pp.show()\n",
    "    ppfig.save_figure(\"contours_f%02d_%02d_i%02d-%s_constraints\" % (function, \n",
    "                                                                    dimension, \n",
    "                                                                    instance, \n",
    "                                                                    nb_cons_fig_name[m]),\n",
    "                      bbox_inches='tight')\n",
    "    pp.clf()"
   ]
  },
  {
   "cell_type": "code",
   "execution_count": 6,
   "metadata": {},
   "outputs": [],
   "source": [
    "def main(function=1, dimension=2, instance=1):\n",
    "    # Create bbob-constrained test suite\n",
    "    suite = cocoex.Suite(\"bbob-constrained\", \"\", \"\")\n",
    "    #suite = cocoex.Suite(\"bbob-constrained-active-only\", \"\", \"\")\n",
    "    \n",
    "    # Create the constrained problem of interest\n",
    "    problem = suite.get_problem_by_function_dimension_instance(function, dimension,\n",
    "                                                           instance)\n",
    "    # Read and evaluate best parameter of the problem\n",
    "    x_best = read_best_parameter(problem)\n",
    "    f_best = problem(x_best)\n",
    "    \n",
    "    # Define x- and y-axes\n",
    "    x = np.linspace(xmin, xmax, 100)\n",
    "    y = np.linspace(ymin, ymax, 100)\n",
    "    \n",
    "    # Evaluate objective on grid\n",
    "    f_values, cons_values = bbob_constrained_evaluate_grid(x, y, problem)\n",
    "    \n",
    "    # Plot contours of objective and constraints\n",
    "    bbob_constrained_plot_contours(x, y, f_values, cons_values, x_best, function, dimension, instance)"
   ]
  },
  {
   "cell_type": "code",
   "execution_count": 7,
   "metadata": {},
   "outputs": [],
   "source": [
    "if __name__=='__main__':\n",
    "    main(function, dimension, instance)\n",
    "    pp.show()"
   ]
  },
  {
   "cell_type": "code",
   "execution_count": null,
   "metadata": {},
   "outputs": [],
   "source": [
    "# contour plots for f1-48 in dimension 2:\n",
    "\n",
    "functions = range(1, 49)\n",
    "dimensions = [20, ]\n",
    "instances = range(1, 2)\n",
    "\n",
    "xmin, ymin = -5, -5\n",
    "xmax, ymax = 5, 5\n",
    "\n",
    "for function in functions:\n",
    "    for dimension in dimensions:\n",
    "        for instance in instances:\n",
    "            main(function, dimension, instance)\n"
   ]
  },
  {
   "cell_type": "code",
   "execution_count": null,
   "metadata": {},
   "outputs": [],
   "source": []
  },
  {
   "cell_type": "code",
   "execution_count": null,
   "metadata": {},
   "outputs": [],
   "source": []
  },
  {
   "cell_type": "code",
   "execution_count": null,
   "metadata": {},
   "outputs": [],
   "source": []
  },
  {
   "cell_type": "code",
   "execution_count": null,
   "metadata": {},
   "outputs": [],
   "source": []
  },
  {
   "cell_type": "code",
   "execution_count": null,
   "metadata": {},
   "outputs": [],
   "source": []
  }
 ],
 "metadata": {
  "kernelspec": {
   "display_name": "Python 3",
   "language": "python",
   "name": "python3"
  },
  "language_info": {
   "codemirror_mode": {
    "name": "ipython",
    "version": 3
   },
   "file_extension": ".py",
   "mimetype": "text/x-python",
   "name": "python",
   "nbconvert_exporter": "python",
   "pygments_lexer": "ipython3",
   "version": "3.7.9"
  }
 },
 "nbformat": 4,
 "nbformat_minor": 2
}
